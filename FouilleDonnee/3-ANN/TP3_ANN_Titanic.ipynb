{
  "cells": [
    {
      "cell_type": "markdown",
      "metadata": {
        "id": "view-in-github",
        "colab_type": "text"
      },
      "source": [
        "<a href=\"https://colab.research.google.com/github/jeanlamarre16/datascience/blob/main/FouilleDonnee/3-ANN/TP3_ANN_Titanic.ipynb\" target=\"_parent\"><img src=\"https://colab.research.google.com/assets/colab-badge.svg\" alt=\"Open In Colab\"/></a>"
      ]
    },
    {
      "cell_type": "markdown",
      "metadata": {
        "id": "0rxvY9TFzRo2"
      },
      "source": [
        "# Importation des Librairies"
      ]
    },
    {
      "cell_type": "code",
      "execution_count": 1,
      "metadata": {
        "_cell_guid": "b1076dfc-b9ad-4769-8c92-a6c4dae69d19",
        "_uuid": "8f2839f25d086af736a60e9eeb907d3b93b6e0e5",
        "id": "ToIa3YZVzRo5"
      },
      "outputs": [],
      "source": [
        "import numpy as np # linear algebra\n",
        "import pandas as pd # data processing, CSV file I/O (e.g. pd.read_csv)\n",
        "import csv\n",
        "\n",
        "from sklearn.model_selection import train_test_split\n",
        "from sklearn.utils import shuffle\n",
        "\n",
        "import torch\n",
        "import torch.nn as nn\n",
        "import torch.nn.functional as F\n",
        "import torch.autograd as autograd\n",
        "import torch.optim as optim\n",
        "\n",
        "from google.colab import drive"
      ]
    },
    {
      "cell_type": "code",
      "source": [
        "# Montage du dossier google drive pour la récupération des fichiers de données\n",
        "drive.mount('/gdrive')"
      ],
      "metadata": {
        "id": "t0k2P1Ax33UG",
        "outputId": "1c46fc24-f561-41a7-800e-c02539cfd45e",
        "colab": {
          "base_uri": "https://localhost:8080/"
        }
      },
      "execution_count": 13,
      "outputs": [
        {
          "output_type": "stream",
          "name": "stdout",
          "text": [
            "Drive already mounted at /gdrive; to attempt to forcibly remount, call drive.mount(\"/gdrive\", force_remount=True).\n"
          ]
        }
      ]
    },
    {
      "cell_type": "markdown",
      "metadata": {
        "id": "Ux-Q9o6tzRo6"
      },
      "source": [
        "## 1. Préparation des données"
      ]
    },
    {
      "cell_type": "markdown",
      "metadata": {
        "id": "Q6i2n1vdzRo6"
      },
      "source": [
        "1.1 Importer les données Train et Test"
      ]
    },
    {
      "cell_type": "code",
      "execution_count": 17,
      "metadata": {
        "_uuid": "f66eed17ca77cd4973b8f00c510c5d98e4dc2af7",
        "id": "cpn89Hs_zRo7"
      },
      "outputs": [],
      "source": [
        "# Chargement des données du fichier de data test.csv pour le dataframe train_clean\n",
        "df_train_clean = pd.read_csv('/gdrive/MyDrive/Data/train_clean.csv')\n",
        "\n",
        "# Chargement des données du fichier de data test.csv pour le dataframe test_clean\n",
        "df_test_clean = pd.read_csv('/gdrive/MyDrive/Data/test_clean.csv')"
      ]
    },
    {
      "cell_type": "code",
      "source": [
        "%load_ext google.colab.data_table # Pour l'affichage des données formatées sous forme de table"
      ],
      "metadata": {
        "id": "UQeG0cx_8lN1"
      },
      "execution_count": 19,
      "outputs": []
    },
    {
      "cell_type": "code",
      "source": [
        "df_test_clean.head()\n",
        "#df_train_clean.head()"
      ],
      "metadata": {
        "id": "QrtvCvG78YZd",
        "outputId": "1e147faf-8af0-4c46-bc27-e26ccf79fd90",
        "colab": {
          "base_uri": "https://localhost:8080/",
          "height": 228
        }
      },
      "execution_count": 22,
      "outputs": [
        {
          "output_type": "execute_result",
          "data": {
            "text/plain": [
              "   PassengerId  Pclass  Sex  Age  Fare  Embarked  IsAlone  Title\n",
              "0          892       3    1    2     0         2        1      1\n",
              "1          893       3    0    2     0         0        0      3\n",
              "2          894       2    1    3     1         2        1      1\n",
              "3          895       3    1    1     1         0        1      1\n",
              "4          896       3    0    1     1         0        0      3"
            ],
            "text/html": [
              "\n",
              "  <div id=\"df-506cb955-8d13-43a4-909f-039bca7a9552\" class=\"colab-df-container\">\n",
              "    <div>\n",
              "<style scoped>\n",
              "    .dataframe tbody tr th:only-of-type {\n",
              "        vertical-align: middle;\n",
              "    }\n",
              "\n",
              "    .dataframe tbody tr th {\n",
              "        vertical-align: top;\n",
              "    }\n",
              "\n",
              "    .dataframe thead th {\n",
              "        text-align: right;\n",
              "    }\n",
              "</style>\n",
              "<table border=\"1\" class=\"dataframe\">\n",
              "  <thead>\n",
              "    <tr style=\"text-align: right;\">\n",
              "      <th></th>\n",
              "      <th>PassengerId</th>\n",
              "      <th>Pclass</th>\n",
              "      <th>Sex</th>\n",
              "      <th>Age</th>\n",
              "      <th>Fare</th>\n",
              "      <th>Embarked</th>\n",
              "      <th>IsAlone</th>\n",
              "      <th>Title</th>\n",
              "    </tr>\n",
              "  </thead>\n",
              "  <tbody>\n",
              "    <tr>\n",
              "      <th>0</th>\n",
              "      <td>892</td>\n",
              "      <td>3</td>\n",
              "      <td>1</td>\n",
              "      <td>2</td>\n",
              "      <td>0</td>\n",
              "      <td>2</td>\n",
              "      <td>1</td>\n",
              "      <td>1</td>\n",
              "    </tr>\n",
              "    <tr>\n",
              "      <th>1</th>\n",
              "      <td>893</td>\n",
              "      <td>3</td>\n",
              "      <td>0</td>\n",
              "      <td>2</td>\n",
              "      <td>0</td>\n",
              "      <td>0</td>\n",
              "      <td>0</td>\n",
              "      <td>3</td>\n",
              "    </tr>\n",
              "    <tr>\n",
              "      <th>2</th>\n",
              "      <td>894</td>\n",
              "      <td>2</td>\n",
              "      <td>1</td>\n",
              "      <td>3</td>\n",
              "      <td>1</td>\n",
              "      <td>2</td>\n",
              "      <td>1</td>\n",
              "      <td>1</td>\n",
              "    </tr>\n",
              "    <tr>\n",
              "      <th>3</th>\n",
              "      <td>895</td>\n",
              "      <td>3</td>\n",
              "      <td>1</td>\n",
              "      <td>1</td>\n",
              "      <td>1</td>\n",
              "      <td>0</td>\n",
              "      <td>1</td>\n",
              "      <td>1</td>\n",
              "    </tr>\n",
              "    <tr>\n",
              "      <th>4</th>\n",
              "      <td>896</td>\n",
              "      <td>3</td>\n",
              "      <td>0</td>\n",
              "      <td>1</td>\n",
              "      <td>1</td>\n",
              "      <td>0</td>\n",
              "      <td>0</td>\n",
              "      <td>3</td>\n",
              "    </tr>\n",
              "  </tbody>\n",
              "</table>\n",
              "</div>\n",
              "    <div class=\"colab-df-buttons\">\n",
              "\n",
              "  <div class=\"colab-df-container\">\n",
              "    <button class=\"colab-df-convert\" onclick=\"convertToInteractive('df-506cb955-8d13-43a4-909f-039bca7a9552')\"\n",
              "            title=\"Convert this dataframe to an interactive table.\"\n",
              "            style=\"display:none;\">\n",
              "\n",
              "  <svg xmlns=\"http://www.w3.org/2000/svg\" height=\"24px\" viewBox=\"0 -960 960 960\">\n",
              "    <path d=\"M120-120v-720h720v720H120Zm60-500h600v-160H180v160Zm220 220h160v-160H400v160Zm0 220h160v-160H400v160ZM180-400h160v-160H180v160Zm440 0h160v-160H620v160ZM180-180h160v-160H180v160Zm440 0h160v-160H620v160Z\"/>\n",
              "  </svg>\n",
              "    </button>\n",
              "\n",
              "  <style>\n",
              "    .colab-df-container {\n",
              "      display:flex;\n",
              "      gap: 12px;\n",
              "    }\n",
              "\n",
              "    .colab-df-convert {\n",
              "      background-color: #E8F0FE;\n",
              "      border: none;\n",
              "      border-radius: 50%;\n",
              "      cursor: pointer;\n",
              "      display: none;\n",
              "      fill: #1967D2;\n",
              "      height: 32px;\n",
              "      padding: 0 0 0 0;\n",
              "      width: 32px;\n",
              "    }\n",
              "\n",
              "    .colab-df-convert:hover {\n",
              "      background-color: #E2EBFA;\n",
              "      box-shadow: 0px 1px 2px rgba(60, 64, 67, 0.3), 0px 1px 3px 1px rgba(60, 64, 67, 0.15);\n",
              "      fill: #174EA6;\n",
              "    }\n",
              "\n",
              "    .colab-df-buttons div {\n",
              "      margin-bottom: 4px;\n",
              "    }\n",
              "\n",
              "    [theme=dark] .colab-df-convert {\n",
              "      background-color: #3B4455;\n",
              "      fill: #D2E3FC;\n",
              "    }\n",
              "\n",
              "    [theme=dark] .colab-df-convert:hover {\n",
              "      background-color: #434B5C;\n",
              "      box-shadow: 0px 1px 3px 1px rgba(0, 0, 0, 0.15);\n",
              "      filter: drop-shadow(0px 1px 2px rgba(0, 0, 0, 0.3));\n",
              "      fill: #FFFFFF;\n",
              "    }\n",
              "  </style>\n",
              "\n",
              "    <script>\n",
              "      const buttonEl =\n",
              "        document.querySelector('#df-506cb955-8d13-43a4-909f-039bca7a9552 button.colab-df-convert');\n",
              "      buttonEl.style.display =\n",
              "        google.colab.kernel.accessAllowed ? 'block' : 'none';\n",
              "\n",
              "      async function convertToInteractive(key) {\n",
              "        const element = document.querySelector('#df-506cb955-8d13-43a4-909f-039bca7a9552');\n",
              "        const dataTable =\n",
              "          await google.colab.kernel.invokeFunction('convertToInteractive',\n",
              "                                                    [key], {});\n",
              "        if (!dataTable) return;\n",
              "\n",
              "        const docLinkHtml = 'Like what you see? Visit the ' +\n",
              "          '<a target=\"_blank\" href=https://colab.research.google.com/notebooks/data_table.ipynb>data table notebook</a>'\n",
              "          + ' to learn more about interactive tables.';\n",
              "        element.innerHTML = '';\n",
              "        dataTable['output_type'] = 'display_data';\n",
              "        await google.colab.output.renderOutput(dataTable, element);\n",
              "        const docLink = document.createElement('div');\n",
              "        docLink.innerHTML = docLinkHtml;\n",
              "        element.appendChild(docLink);\n",
              "      }\n",
              "    </script>\n",
              "  </div>\n",
              "\n",
              "\n",
              "<div id=\"df-f221e937-cbe9-4b9e-ae7e-a64d0e71e519\">\n",
              "  <button class=\"colab-df-quickchart\" onclick=\"quickchart('df-f221e937-cbe9-4b9e-ae7e-a64d0e71e519')\"\n",
              "            title=\"Suggest charts\"\n",
              "            style=\"display:none;\">\n",
              "\n",
              "<svg xmlns=\"http://www.w3.org/2000/svg\" height=\"24px\"viewBox=\"0 0 24 24\"\n",
              "     width=\"24px\">\n",
              "    <g>\n",
              "        <path d=\"M19 3H5c-1.1 0-2 .9-2 2v14c0 1.1.9 2 2 2h14c1.1 0 2-.9 2-2V5c0-1.1-.9-2-2-2zM9 17H7v-7h2v7zm4 0h-2V7h2v10zm4 0h-2v-4h2v4z\"/>\n",
              "    </g>\n",
              "</svg>\n",
              "  </button>\n",
              "\n",
              "<style>\n",
              "  .colab-df-quickchart {\n",
              "      --bg-color: #E8F0FE;\n",
              "      --fill-color: #1967D2;\n",
              "      --hover-bg-color: #E2EBFA;\n",
              "      --hover-fill-color: #174EA6;\n",
              "      --disabled-fill-color: #AAA;\n",
              "      --disabled-bg-color: #DDD;\n",
              "  }\n",
              "\n",
              "  [theme=dark] .colab-df-quickchart {\n",
              "      --bg-color: #3B4455;\n",
              "      --fill-color: #D2E3FC;\n",
              "      --hover-bg-color: #434B5C;\n",
              "      --hover-fill-color: #FFFFFF;\n",
              "      --disabled-bg-color: #3B4455;\n",
              "      --disabled-fill-color: #666;\n",
              "  }\n",
              "\n",
              "  .colab-df-quickchart {\n",
              "    background-color: var(--bg-color);\n",
              "    border: none;\n",
              "    border-radius: 50%;\n",
              "    cursor: pointer;\n",
              "    display: none;\n",
              "    fill: var(--fill-color);\n",
              "    height: 32px;\n",
              "    padding: 0;\n",
              "    width: 32px;\n",
              "  }\n",
              "\n",
              "  .colab-df-quickchart:hover {\n",
              "    background-color: var(--hover-bg-color);\n",
              "    box-shadow: 0 1px 2px rgba(60, 64, 67, 0.3), 0 1px 3px 1px rgba(60, 64, 67, 0.15);\n",
              "    fill: var(--button-hover-fill-color);\n",
              "  }\n",
              "\n",
              "  .colab-df-quickchart-complete:disabled,\n",
              "  .colab-df-quickchart-complete:disabled:hover {\n",
              "    background-color: var(--disabled-bg-color);\n",
              "    fill: var(--disabled-fill-color);\n",
              "    box-shadow: none;\n",
              "  }\n",
              "\n",
              "  .colab-df-spinner {\n",
              "    border: 2px solid var(--fill-color);\n",
              "    border-color: transparent;\n",
              "    border-bottom-color: var(--fill-color);\n",
              "    animation:\n",
              "      spin 1s steps(1) infinite;\n",
              "  }\n",
              "\n",
              "  @keyframes spin {\n",
              "    0% {\n",
              "      border-color: transparent;\n",
              "      border-bottom-color: var(--fill-color);\n",
              "      border-left-color: var(--fill-color);\n",
              "    }\n",
              "    20% {\n",
              "      border-color: transparent;\n",
              "      border-left-color: var(--fill-color);\n",
              "      border-top-color: var(--fill-color);\n",
              "    }\n",
              "    30% {\n",
              "      border-color: transparent;\n",
              "      border-left-color: var(--fill-color);\n",
              "      border-top-color: var(--fill-color);\n",
              "      border-right-color: var(--fill-color);\n",
              "    }\n",
              "    40% {\n",
              "      border-color: transparent;\n",
              "      border-right-color: var(--fill-color);\n",
              "      border-top-color: var(--fill-color);\n",
              "    }\n",
              "    60% {\n",
              "      border-color: transparent;\n",
              "      border-right-color: var(--fill-color);\n",
              "    }\n",
              "    80% {\n",
              "      border-color: transparent;\n",
              "      border-right-color: var(--fill-color);\n",
              "      border-bottom-color: var(--fill-color);\n",
              "    }\n",
              "    90% {\n",
              "      border-color: transparent;\n",
              "      border-bottom-color: var(--fill-color);\n",
              "    }\n",
              "  }\n",
              "</style>\n",
              "\n",
              "  <script>\n",
              "    async function quickchart(key) {\n",
              "      const quickchartButtonEl =\n",
              "        document.querySelector('#' + key + ' button');\n",
              "      quickchartButtonEl.disabled = true;  // To prevent multiple clicks.\n",
              "      quickchartButtonEl.classList.add('colab-df-spinner');\n",
              "      try {\n",
              "        const charts = await google.colab.kernel.invokeFunction(\n",
              "            'suggestCharts', [key], {});\n",
              "      } catch (error) {\n",
              "        console.error('Error during call to suggestCharts:', error);\n",
              "      }\n",
              "      quickchartButtonEl.classList.remove('colab-df-spinner');\n",
              "      quickchartButtonEl.classList.add('colab-df-quickchart-complete');\n",
              "    }\n",
              "    (() => {\n",
              "      let quickchartButtonEl =\n",
              "        document.querySelector('#df-f221e937-cbe9-4b9e-ae7e-a64d0e71e519 button');\n",
              "      quickchartButtonEl.style.display =\n",
              "        google.colab.kernel.accessAllowed ? 'block' : 'none';\n",
              "    })();\n",
              "  </script>\n",
              "</div>\n",
              "\n",
              "    </div>\n",
              "  </div>\n"
            ],
            "application/vnd.google.colaboratory.intrinsic+json": {
              "type": "dataframe",
              "summary": "{\n  \"name\": \"#df_train_clean\",\n  \"rows\": 5,\n  \"fields\": [\n    {\n      \"column\": \"PassengerId\",\n      \"properties\": {\n        \"dtype\": \"number\",\n        \"std\": 1,\n        \"min\": 892,\n        \"max\": 896,\n        \"num_unique_values\": 5,\n        \"samples\": [\n          893,\n          896,\n          894\n        ],\n        \"semantic_type\": \"\",\n        \"description\": \"\"\n      }\n    },\n    {\n      \"column\": \"Pclass\",\n      \"properties\": {\n        \"dtype\": \"number\",\n        \"std\": 0,\n        \"min\": 2,\n        \"max\": 3,\n        \"num_unique_values\": 2,\n        \"samples\": [\n          2,\n          3\n        ],\n        \"semantic_type\": \"\",\n        \"description\": \"\"\n      }\n    },\n    {\n      \"column\": \"Sex\",\n      \"properties\": {\n        \"dtype\": \"number\",\n        \"std\": 0,\n        \"min\": 0,\n        \"max\": 1,\n        \"num_unique_values\": 2,\n        \"samples\": [\n          0,\n          1\n        ],\n        \"semantic_type\": \"\",\n        \"description\": \"\"\n      }\n    },\n    {\n      \"column\": \"Age\",\n      \"properties\": {\n        \"dtype\": \"number\",\n        \"std\": 0,\n        \"min\": 1,\n        \"max\": 3,\n        \"num_unique_values\": 3,\n        \"samples\": [\n          2,\n          3\n        ],\n        \"semantic_type\": \"\",\n        \"description\": \"\"\n      }\n    },\n    {\n      \"column\": \"Fare\",\n      \"properties\": {\n        \"dtype\": \"number\",\n        \"std\": 0,\n        \"min\": 0,\n        \"max\": 1,\n        \"num_unique_values\": 2,\n        \"samples\": [\n          1,\n          0\n        ],\n        \"semantic_type\": \"\",\n        \"description\": \"\"\n      }\n    },\n    {\n      \"column\": \"Embarked\",\n      \"properties\": {\n        \"dtype\": \"number\",\n        \"std\": 1,\n        \"min\": 0,\n        \"max\": 2,\n        \"num_unique_values\": 2,\n        \"samples\": [\n          0,\n          2\n        ],\n        \"semantic_type\": \"\",\n        \"description\": \"\"\n      }\n    },\n    {\n      \"column\": \"IsAlone\",\n      \"properties\": {\n        \"dtype\": \"number\",\n        \"std\": 0,\n        \"min\": 0,\n        \"max\": 1,\n        \"num_unique_values\": 2,\n        \"samples\": [\n          0,\n          1\n        ],\n        \"semantic_type\": \"\",\n        \"description\": \"\"\n      }\n    },\n    {\n      \"column\": \"Title\",\n      \"properties\": {\n        \"dtype\": \"number\",\n        \"std\": 1,\n        \"min\": 1,\n        \"max\": 3,\n        \"num_unique_values\": 2,\n        \"samples\": [\n          3,\n          1\n        ],\n        \"semantic_type\": \"\",\n        \"description\": \"\"\n      }\n    }\n  ]\n}"
            },
            "application/vnd.google.colaboratory.module+javascript": "\n      import \"https://ssl.gstatic.com/colaboratory/data_table/e523c247d1e24a05/data_table.js\";\n\n      const table = window.createDataTable({\n        data: [[{\n            'v': 0,\n            'f': \"0\",\n        },\n{\n            'v': 892,\n            'f': \"892\",\n        },\n{\n            'v': 3,\n            'f': \"3\",\n        },\n{\n            'v': 1,\n            'f': \"1\",\n        },\n{\n            'v': 2,\n            'f': \"2\",\n        },\n{\n            'v': 0,\n            'f': \"0\",\n        },\n{\n            'v': 2,\n            'f': \"2\",\n        },\n{\n            'v': 1,\n            'f': \"1\",\n        },\n{\n            'v': 1,\n            'f': \"1\",\n        }],\n [{\n            'v': 1,\n            'f': \"1\",\n        },\n{\n            'v': 893,\n            'f': \"893\",\n        },\n{\n            'v': 3,\n            'f': \"3\",\n        },\n{\n            'v': 0,\n            'f': \"0\",\n        },\n{\n            'v': 2,\n            'f': \"2\",\n        },\n{\n            'v': 0,\n            'f': \"0\",\n        },\n{\n            'v': 0,\n            'f': \"0\",\n        },\n{\n            'v': 0,\n            'f': \"0\",\n        },\n{\n            'v': 3,\n            'f': \"3\",\n        }],\n [{\n            'v': 2,\n            'f': \"2\",\n        },\n{\n            'v': 894,\n            'f': \"894\",\n        },\n{\n            'v': 2,\n            'f': \"2\",\n        },\n{\n            'v': 1,\n            'f': \"1\",\n        },\n{\n            'v': 3,\n            'f': \"3\",\n        },\n{\n            'v': 1,\n            'f': \"1\",\n        },\n{\n            'v': 2,\n            'f': \"2\",\n        },\n{\n            'v': 1,\n            'f': \"1\",\n        },\n{\n            'v': 1,\n            'f': \"1\",\n        }],\n [{\n            'v': 3,\n            'f': \"3\",\n        },\n{\n            'v': 895,\n            'f': \"895\",\n        },\n{\n            'v': 3,\n            'f': \"3\",\n        },\n{\n            'v': 1,\n            'f': \"1\",\n        },\n{\n            'v': 1,\n            'f': \"1\",\n        },\n{\n            'v': 1,\n            'f': \"1\",\n        },\n{\n            'v': 0,\n            'f': \"0\",\n        },\n{\n            'v': 1,\n            'f': \"1\",\n        },\n{\n            'v': 1,\n            'f': \"1\",\n        }],\n [{\n            'v': 4,\n            'f': \"4\",\n        },\n{\n            'v': 896,\n            'f': \"896\",\n        },\n{\n            'v': 3,\n            'f': \"3\",\n        },\n{\n            'v': 0,\n            'f': \"0\",\n        },\n{\n            'v': 1,\n            'f': \"1\",\n        },\n{\n            'v': 1,\n            'f': \"1\",\n        },\n{\n            'v': 0,\n            'f': \"0\",\n        },\n{\n            'v': 0,\n            'f': \"0\",\n        },\n{\n            'v': 3,\n            'f': \"3\",\n        }]],\n        columns: [[\"number\", \"index\"], [\"number\", \"PassengerId\"], [\"number\", \"Pclass\"], [\"number\", \"Sex\"], [\"number\", \"Age\"], [\"number\", \"Fare\"], [\"number\", \"Embarked\"], [\"number\", \"IsAlone\"], [\"number\", \"Title\"]],\n        columnOptions: [{\"width\": \"1px\", \"className\": \"index_column\"}],\n        rowsPerPage: 25,\n        helpUrl: \"https://colab.research.google.com/notebooks/data_table.ipynb\",\n        suppressOutputScrolling: true,\n        minimumWidth: undefined,\n      });\n\n      function appendQuickchartButton(parentElement) {\n        let quickchartButtonContainerElement = document.createElement('div');\n        quickchartButtonContainerElement.innerHTML = `\n<div id=\"df-da626e92-4449-463f-9321-e6579067112c\">\n  <button class=\"colab-df-quickchart\" onclick=\"quickchart('df-da626e92-4449-463f-9321-e6579067112c')\"\n            title=\"Suggest charts\"\n            style=\"display:none;\">\n    \n<svg xmlns=\"http://www.w3.org/2000/svg\" height=\"24px\"viewBox=\"0 0 24 24\"\n     width=\"24px\">\n    <g>\n        <path d=\"M19 3H5c-1.1 0-2 .9-2 2v14c0 1.1.9 2 2 2h14c1.1 0 2-.9 2-2V5c0-1.1-.9-2-2-2zM9 17H7v-7h2v7zm4 0h-2V7h2v10zm4 0h-2v-4h2v4z\"/>\n    </g>\n</svg>\n  </button>\n  \n<style>\n  .colab-df-quickchart {\n      --bg-color: #E8F0FE;\n      --fill-color: #1967D2;\n      --hover-bg-color: #E2EBFA;\n      --hover-fill-color: #174EA6;\n      --disabled-fill-color: #AAA;\n      --disabled-bg-color: #DDD;\n  }\n\n  [theme=dark] .colab-df-quickchart {\n      --bg-color: #3B4455;\n      --fill-color: #D2E3FC;\n      --hover-bg-color: #434B5C;\n      --hover-fill-color: #FFFFFF;\n      --disabled-bg-color: #3B4455;\n      --disabled-fill-color: #666;\n  }\n\n  .colab-df-quickchart {\n    background-color: var(--bg-color);\n    border: none;\n    border-radius: 50%;\n    cursor: pointer;\n    display: none;\n    fill: var(--fill-color);\n    height: 32px;\n    padding: 0;\n    width: 32px;\n  }\n\n  .colab-df-quickchart:hover {\n    background-color: var(--hover-bg-color);\n    box-shadow: 0 1px 2px rgba(60, 64, 67, 0.3), 0 1px 3px 1px rgba(60, 64, 67, 0.15);\n    fill: var(--button-hover-fill-color);\n  }\n\n  .colab-df-quickchart-complete:disabled,\n  .colab-df-quickchart-complete:disabled:hover {\n    background-color: var(--disabled-bg-color);\n    fill: var(--disabled-fill-color);\n    box-shadow: none;\n  }\n\n  .colab-df-spinner {\n    border: 2px solid var(--fill-color);\n    border-color: transparent;\n    border-bottom-color: var(--fill-color);\n    animation:\n      spin 1s steps(1) infinite;\n  }\n\n  @keyframes spin {\n    0% {\n      border-color: transparent;\n      border-bottom-color: var(--fill-color);\n      border-left-color: var(--fill-color);\n    }\n    20% {\n      border-color: transparent;\n      border-left-color: var(--fill-color);\n      border-top-color: var(--fill-color);\n    }\n    30% {\n      border-color: transparent;\n      border-left-color: var(--fill-color);\n      border-top-color: var(--fill-color);\n      border-right-color: var(--fill-color);\n    }\n    40% {\n      border-color: transparent;\n      border-right-color: var(--fill-color);\n      border-top-color: var(--fill-color);\n    }\n    60% {\n      border-color: transparent;\n      border-right-color: var(--fill-color);\n    }\n    80% {\n      border-color: transparent;\n      border-right-color: var(--fill-color);\n      border-bottom-color: var(--fill-color);\n    }\n    90% {\n      border-color: transparent;\n      border-bottom-color: var(--fill-color);\n    }\n  }\n</style>\n\n  <script>\n    async function quickchart(key) {\n      const quickchartButtonEl =\n        document.querySelector('#' + key + ' button');\n      quickchartButtonEl.disabled = true;  // To prevent multiple clicks.\n      quickchartButtonEl.classList.add('colab-df-spinner');\n      try {\n        const charts = await google.colab.kernel.invokeFunction(\n            'suggestCharts', [key], {});\n      } catch (error) {\n        console.error('Error during call to suggestCharts:', error);\n      }\n      quickchartButtonEl.classList.remove('colab-df-spinner');\n      quickchartButtonEl.classList.add('colab-df-quickchart-complete');\n    }\n    (() => {\n      let quickchartButtonEl =\n        document.querySelector('#df-da626e92-4449-463f-9321-e6579067112c button');\n      quickchartButtonEl.style.display =\n        google.colab.kernel.accessAllowed ? 'block' : 'none';\n    })();\n  </script>\n</div>`;\n        parentElement.appendChild(quickchartButtonContainerElement);\n      }\n\n      appendQuickchartButton(table);\n    "
          },
          "metadata": {},
          "execution_count": 22
        }
      ]
    },
    {
      "cell_type": "markdown",
      "metadata": {
        "id": "Ci32-1sVzRo7"
      },
      "source": [
        "1.2 Depuis le Dataframe train, charger les features d'apprentissage dans un array numpy X_alltrain, et les labels (données à prévoir) dans un array numpy y_alltrain"
      ]
    },
    {
      "cell_type": "code",
      "execution_count": 23,
      "metadata": {
        "id": "l9fcKYDszRo7"
      },
      "outputs": [],
      "source": [
        "X_alltrain = df_train_clean.drop(columns=['PassengerId']).to_numpy() # Features\n",
        "y_alltrain = df_train_clean['Survived'].to_numpy() # Labels"
      ]
    },
    {
      "cell_type": "markdown",
      "metadata": {
        "id": "8zVwLfAUzRo7"
      },
      "source": [
        "1.3 Séparer les features et les labels en deux parties (train et dev), en attribuant 10% des exemples aux données de dev. afficher les nombres de lignes et de colonnes pour les 4 arrays."
      ]
    },
    {
      "cell_type": "code",
      "execution_count": 54,
      "metadata": {
        "_uuid": "4444e870e198520bbbd400b780cafb88571feb8b",
        "id": "WAWSCI9uzRo7",
        "outputId": "48eaf7cd-3176-4728-b80b-fe5eef7d94e8",
        "colab": {
          "base_uri": "https://localhost:8080/"
        }
      },
      "outputs": [
        {
          "output_type": "stream",
          "name": "stdout",
          "text": [
            "[feature x_train] : nombre de lignes et de colonnes  => FEATURES  (801, 8)\n",
            "[labels y_train]  : nombre de lignes                 => LABELS (801,)\n",
            "[feature x_dev]   : nombre de lignes et de colonnes  => FEATURES  (90, 8)\n",
            "[labels y_dev]    : nombre de lignes                 => LABELS  (90,)\n"
          ]
        }
      ],
      "source": [
        "from sklearn.model_selection import train_test_split\n",
        "\n",
        "X_train, X_dev, y_train, y_dev = train_test_split(X_alltrain, y_alltrain, test_size=0.1, random_state=42)\n",
        "\n",
        "from sklearn.preprocessing import StandardScaler\n",
        "scaler = StandardScaler()\n",
        "X_train = scaler.fit_transform(X_train)\n",
        "X_dev = scaler.transform(X_dev)\n",
        "\n",
        "print(\"[feature x_train] : nombre de lignes et de colonnes  => FEATURES \", X_train.shape)\n",
        "print(\"[labels y_train]  : nombre de lignes                 => LABELS\", y_train.shape)\n",
        "print(\"[feature x_dev]   : nombre de lignes et de colonnes  => FEATURES \", X_dev.shape)\n",
        "print(\"[labels y_dev]    : nombre de lignes                 => LABELS \", y_dev.shape)"
      ]
    },
    {
      "cell_type": "markdown",
      "metadata": {
        "id": "cGaV28jpzRo8"
      },
      "source": [
        "1.4 Afficher les 10 premières lignes de features et les 10 premiers labels."
      ]
    },
    {
      "cell_type": "code",
      "execution_count": 55,
      "metadata": {
        "_uuid": "4444e870e198520bbbd400b780cafb88571feb8b",
        "id": "_EPO24PPzRo8",
        "outputId": "a32f0f06-07c5-4ccb-e0aa-7ade2a38fa7e",
        "colab": {
          "base_uri": "https://localhost:8080/"
        }
      },
      "outputs": [
        {
          "output_type": "stream",
          "name": "stdout",
          "text": [
            "[FEATURES] (10 premières lignes):\n",
            " [[ 1.27186755  0.82096936  0.72706668 -1.59025593  0.44576419 -0.55643466\n",
            "  -1.2356431   2.21316687]\n",
            " [-0.78624539  0.82096936 -1.37538967 -1.59025593  1.34515239 -0.55643466\n",
            "  -1.2356431   0.2704308 ]\n",
            " [-0.78624539 -1.59222865  0.72706668  1.97446888  1.34515239 -0.55643466\n",
            "   0.80929517 -0.70093723]\n",
            " [-0.78624539  0.82096936  0.72706668  0.78622728 -1.35301221  2.6271665\n",
            "   0.80929517 -0.70093723]\n",
            " [-0.78624539  0.82096936  0.72706668 -1.59025593 -1.35301221 -0.55643466\n",
            "   0.80929517 -0.70093723]\n",
            " [-0.78624539  0.82096936  0.72706668 -0.40201432 -1.35301221 -0.55643466\n",
            "   0.80929517 -0.70093723]\n",
            " [ 1.27186755 -1.59222865  0.72706668  0.78622728  1.34515239 -0.55643466\n",
            "  -1.2356431  -0.70093723]\n",
            " [ 1.27186755  0.82096936  0.72706668  0.78622728 -0.45362401 -0.55643466\n",
            "   0.80929517 -0.70093723]\n",
            " [ 1.27186755 -0.38562964 -1.37538967  0.78622728 -0.45362401 -0.55643466\n",
            "   0.80929517  1.24179884]\n",
            " [-0.78624539  0.82096936  0.72706668 -0.40201432 -1.35301221 -0.55643466\n",
            "   0.80929517 -0.70093723]]\n",
            "\n",
            "[LABELS] (10 premiers labels):\n",
            " [1 0 0 0 0 0 1 1 1 0]\n"
          ]
        }
      ],
      "source": [
        "print(\"[FEATURES] (10 premières lignes):\\n\", X_train[:10])\n",
        "print(\"\\n[LABELS] (10 premiers labels):\\n\", y_train[:10])"
      ]
    },
    {
      "cell_type": "markdown",
      "metadata": {
        "id": "nGw1vEqIzRo8"
      },
      "source": [
        "## 2. Définition du réseau de neurone"
      ]
    },
    {
      "cell_type": "markdown",
      "metadata": {
        "id": "zXqRuU6FzRo9"
      },
      "source": [
        "2.1 Définir et instancier une classe Titanic Model avec les caractéristiques suivantes :\n",
        "- deux  couches cachées de 50 neurones.\n",
        "- deux classes en sortie : Survivant ou non\n",
        "- Des fonctions d'activation RELU\n",
        "- un dropout paramétrable pour les 2 couches cachées"
      ]
    },
    {
      "cell_type": "code",
      "execution_count": 56,
      "metadata": {
        "id": "KsgjDVHCzRo9"
      },
      "outputs": [],
      "source": [
        "import torch.nn as nn\n",
        "import torch.nn.functional as F\n",
        "\n",
        "class TitanicModel(nn.Module):\n",
        "    def __init__(self, input_size, keep_prob=0.5):\n",
        "        super(TitanicModel, self).__init__()\n",
        "        self.fc1 = nn.Linear(input_size, 50)\n",
        "        self.fc2 = nn.Linear(50, 50)\n",
        "        self.fc3 = nn.Linear(50, 2)\n",
        "        self.dropout = nn.Dropout(p=1 - keep_prob)\n",
        "\n",
        "    def forward(self, x):\n",
        "        x = F.relu(self.fc1(x))\n",
        "        x = self.dropout(x)\n",
        "        x = F.relu(self.fc2(x))\n",
        "        x = self.dropout(x)\n",
        "        x = self.fc3(x)\n",
        "        return x"
      ]
    },
    {
      "cell_type": "markdown",
      "metadata": {
        "id": "sEkxFVIszRo-"
      },
      "source": [
        "2.2 : Définir des paramètres de nombre d'epochs (50) et de learning_rate (0.01)"
      ]
    },
    {
      "cell_type": "code",
      "execution_count": 57,
      "metadata": {
        "_uuid": "9d5641b90eccab8e9643e288c767984a539d63e4",
        "id": "kZOOx1swzRo-"
      },
      "outputs": [],
      "source": [
        "nb_epochs = 50\n",
        "learning_rate = 0.01"
      ]
    },
    {
      "cell_type": "markdown",
      "metadata": {
        "id": "FLbb6XCnzRo-"
      },
      "source": [
        "2.3 définir la taille du minibatch à 50. En déduire le nombre de boucle pour chaque epoch."
      ]
    },
    {
      "cell_type": "code",
      "execution_count": 58,
      "metadata": {
        "_uuid": "9d5641b90eccab8e9643e288c767984a539d63e4",
        "id": "GpSPOx0YzRo_"
      },
      "outputs": [],
      "source": [
        "batch_size = 50\n",
        "num_batches = len(X_train)"
      ]
    },
    {
      "cell_type": "markdown",
      "metadata": {
        "id": "XYF58UHAzRo_"
      },
      "source": [
        "2.4 Définir un fonction de coût de type CrossEntropy"
      ]
    },
    {
      "cell_type": "code",
      "execution_count": 59,
      "metadata": {
        "_uuid": "938adf17cd24b2754282ca060cfb64a9df87c102",
        "id": "URs1dPlzzRo_"
      },
      "outputs": [],
      "source": [
        "import torch.optim as optim\n",
        "\n",
        "criterion = nn.CrossEntropyLoss()"
      ]
    },
    {
      "cell_type": "markdown",
      "metadata": {
        "id": "dQLU6nwLzRo_"
      },
      "source": [
        "2.5. Définir un optimizer de type Adam, sans oublier le learning rate"
      ]
    },
    {
      "cell_type": "code",
      "execution_count": 60,
      "metadata": {
        "_uuid": "938adf17cd24b2754282ca060cfb64a9df87c102",
        "id": "CCp5DcrOzRo_"
      },
      "outputs": [],
      "source": [
        "model = TitanicModel(input_size=X_train.shape[1])\n",
        "optimizer = optim.Adam(model.parameters(), lr=learning_rate)"
      ]
    },
    {
      "cell_type": "markdown",
      "metadata": {
        "id": "pwLE-4xAzRpA"
      },
      "source": [
        "## 3. Apprentissage"
      ]
    },
    {
      "cell_type": "markdown",
      "metadata": {
        "id": "RQR6LQOdzRpA"
      },
      "source": [
        "3.1 exécuter l'apprentissage du modèle.\n",
        "- Créer une boucle sur les epochs, qui contient elel-même une boucle sur les minibatchs.\n",
        "- A chaque nouvelle itération sur les epochs, mélanger les données avec la méthode shuffle.\n",
        "- Tous les 5 epochs afficher la valeur de la fonction de cout"
      ]
    },
    {
      "cell_type": "code",
      "execution_count": 61,
      "metadata": {
        "_uuid": "9f2d8485cc5aac6b03a1aca4c163b5c6f5cd4259",
        "id": "GVPq_nnLzRpA",
        "outputId": "e8cc5652-efd2-4a82-f711-c714fc27f1af",
        "colab": {
          "base_uri": "https://localhost:8080/"
        }
      },
      "outputs": [
        {
          "output_type": "stream",
          "name": "stdout",
          "text": [
            "Epoch [5/50], Loss: nan\n",
            "Epoch [10/50], Loss: nan\n",
            "Epoch [15/50], Loss: nan\n",
            "Epoch [20/50], Loss: nan\n",
            "Epoch [25/50], Loss: nan\n",
            "Epoch [30/50], Loss: nan\n",
            "Epoch [35/50], Loss: nan\n",
            "Epoch [40/50], Loss: nan\n",
            "Epoch [45/50], Loss: nan\n",
            "Epoch [50/50], Loss: nan\n"
          ]
        }
      ],
      "source": [
        "from sklearn.utils import shuffle\n",
        "\n",
        "for epoch in range(nb_epochs):\n",
        "    X_train, y_train = shuffle(X_train, y_train)\n",
        "    for i in range(num_batches):\n",
        "        start = i * batch_size\n",
        "        end = start + batch_size\n",
        "        inputs = torch.tensor(X_train[start:end], dtype=torch.float32)\n",
        "        targets = torch.tensor(y_train[start:end], dtype=torch.long)\n",
        "\n",
        "        outputs = model(inputs)\n",
        "        loss = criterion(outputs, targets)\n",
        "\n",
        "        optimizer.zero_grad()\n",
        "        loss.backward()\n",
        "        optimizer.step()\n",
        "\n",
        "    if (epoch+1) % 5 == 0:\n",
        "        print(f'Epoch [{epoch+1}/{nb_epochs}], Loss: {loss.item():.4f}')"
      ]
    },
    {
      "cell_type": "markdown",
      "metadata": {
        "id": "zNNqavF0zRpA"
      },
      "source": [
        "3.2 Calculer la précision de la prévision sur les données dev"
      ]
    },
    {
      "cell_type": "code",
      "execution_count": 66,
      "metadata": {
        "_uuid": "b30b4c578b3ddd40ec9f63e19396b045c5ac0dd5",
        "id": "zv-gnUJGzRpA",
        "outputId": "3bb47059-077f-461f-cd38-7e69a5a58cfa",
        "colab": {
          "base_uri": "https://localhost:8080/"
        }
      },
      "outputs": [
        {
          "output_type": "stream",
          "name": "stdout",
          "text": [
            "Accuracy on dev set: 0.5222\n"
          ]
        }
      ],
      "source": [
        "with torch.no_grad():\n",
        "    model = TitanicModel(input_size=X_dev.shape[1])\n",
        "    inputs = torch.tensor(X_dev, dtype=torch.float32)\n",
        "    outputs = model(inputs)\n",
        "    _, predicted = torch.max(outputs, 1)\n",
        "    accuracy = (predicted == torch.tensor(y_dev)).sum().item() / len(y_dev)\n",
        "    print(f'Accuracy on dev set: {accuracy:.4f}')"
      ]
    },
    {
      "cell_type": "markdown",
      "metadata": {
        "id": "6tIXavnvzRpA"
      },
      "source": [
        "3.3 Calculer prévisions sur les données de tests"
      ]
    },
    {
      "cell_type": "code",
      "execution_count": 68,
      "metadata": {
        "_uuid": "10054399a4160803528137e2ebf60b73394b6007",
        "id": "KE1CwWLLzRpB"
      },
      "outputs": [],
      "source": [
        "with torch.no_grad():\n",
        "    input_size = df_test_clean.drop(columns=['PassengerId']).shape[1]  # Obtenir la dimension d'entrée\n",
        "    model = TitanicModel(input_size=input_size)  # Initialiser le modèle avec la dimension correcte\n",
        "    inputs = torch.tensor(df_test_clean.drop(columns=['PassengerId']).values, dtype=torch.float32)\n",
        "    outputs = model(inputs)\n",
        "    _, predicted = torch.max(outputs, 1)\n",
        "\n",
        "# Création d'un DataFrame pour les résultats\n",
        "df_results = pd.DataFrame({'PassengerId': df_test_clean['PassengerId'], 'Survived': predicted.numpy()})"
      ]
    },
    {
      "cell_type": "markdown",
      "metadata": {
        "id": "btyy5jRtzRpB"
      },
      "source": [
        "3.4 Générer le fichier résultat et l'envoyer sur kaggle\n",
        "Quel est votre score et votre classement ?"
      ]
    },
    {
      "cell_type": "code",
      "execution_count": 74,
      "metadata": {
        "_uuid": "901d7d529bfe936d8c5091e2a73ffc9d1c5da8ed",
        "id": "XtHSvEWqzRpB"
      },
      "outputs": [],
      "source": [
        "df_results.to_csv('file4Kaggle.csv', index=False)"
      ]
    },
    {
      "cell_type": "markdown",
      "source": [
        "Score obtenu en soumettant le fichier \"file4Kaggle.csv\" au site https://www.kaggle.com/competitions/titanic/submissions#\n",
        "[Compétition : Titanic - Machine Learning from Disasterest]\n",
        "**Score d'accuracy (taux de précision globale) : 0.59808**\n",
        "\n",
        "**Classement (Leaderboard) : 13104**"
      ],
      "metadata": {
        "id": "zDGjOxGfTIra"
      }
    },
    {
      "cell_type": "markdown",
      "metadata": {
        "_uuid": "21b294d4940218f5d2bef3782aca9a6ba6e9c054",
        "id": "myc4h6xrzRpB"
      },
      "source": [
        "3.5 (Optionnel) Exécuter une Cross Validationd ans une boucle pour trouver les meilleures valeurs de learning rate, de keep_prob et de nombre d'epochs.\n",
        "\n",
        "Cross_Validation avec skkearn : https://scikit-learn.org/stable/modules/cross_validation.html#cross-validation-iterators"
      ]
    },
    {
      "cell_type": "code",
      "execution_count": 73,
      "metadata": {
        "id": "7zIj7TTszRpB",
        "outputId": "bed5d7b8-46d5-4940-9a08-83bbd512d55e",
        "colab": {
          "base_uri": "https://localhost:8080/"
        }
      },
      "outputs": [
        {
          "output_type": "stream",
          "name": "stdout",
          "text": [
            "lr: 0.01, probabilité: 0.5, nombre époques: 30, Moyenne de précision: 0.4476\n",
            "lr: 0.01, probabilité: 0.5, nombre époques: 50, Moyenne de précision: 0.5536\n",
            "lr: 0.01, probabilité: 0.7, nombre époques: 30, Moyenne de précision: 0.5351\n",
            "lr: 0.01, probabilité: 0.7, nombre époques: 50, Moyenne de précision: 0.4951\n",
            "lr: 0.001, probabilité: 0.5, nombre époques: 30, Moyenne de précision: 0.4831\n",
            "lr: 0.001, probabilité: 0.5, nombre époques: 50, Moyenne de précision: 0.5097\n",
            "lr: 0.001, probabilité: 0.7, nombre époques: 30, Moyenne de précision: 0.4438\n",
            "lr: 0.001, probabilité: 0.7, nombre époques: 50, Moyenne de précision: 0.4693\n",
            "paramètres: {'taux apprentissage': 0.01, 'probabilité': 0.5, 'nombre époques': 50}, précision: 0.5536\n"
          ]
        }
      ],
      "source": [
        "import numpy as np\n",
        "from sklearn.model_selection import KFold\n",
        "from sklearn.metrics import accuracy_score\n",
        "\n",
        "def cross_validation(X, y, learning_rates, keep_probs, num_epochss):\n",
        "  best_score = 0\n",
        "  best_params = {}\n",
        "\n",
        "  for lr in learning_rates:\n",
        "    for kp in keep_probs:\n",
        "      for ne in num_epochss:\n",
        "        scores = []\n",
        "        kf = KFold(n_splits=5, shuffle=True, random_state=42)\n",
        "        for train_index, val_index in kf.split(X):\n",
        "          X_train, X_val = X[train_index], X[val_index]\n",
        "          y_train, y_val = y[train_index], y[val_index]\n",
        "\n",
        "          model = TitanicModel(input_size=X_train.shape[1], keep_prob=kp)\n",
        "          optimizer = optim.Adam(model.parameters(), lr=lr)\n",
        "\n",
        "          for epoch in range(ne):\n",
        "            with torch.no_grad():\n",
        "              inputs = torch.tensor(X_val, dtype=torch.float32)\n",
        "              outputs = model(inputs)\n",
        "              _, predicted = torch.max(outputs, 1)\n",
        "              accuracy = accuracy_score(y_val, predicted.numpy())\n",
        "              scores.append(accuracy)\n",
        "\n",
        "        avg_score = np.mean(scores)\n",
        "        print(f\"lr: {lr}, probabilité: {kp}, nombre époques: {ne}, Moyenne de précision: {avg_score:.4f}\")\n",
        "\n",
        "        if avg_score > best_score:\n",
        "          best_score = avg_score\n",
        "          best_params = {'taux apprentissage': lr, 'probabilité': kp, 'nombre époques': ne}\n",
        "\n",
        "  print(f\"paramètres: {best_params}, précision: {best_score:.4f}\")\n",
        "  return best_params\n",
        "\n",
        "# Utilisation\n",
        "learning_rates = [0.01, 0.001]\n",
        "keep_probs = [0.5, 0.7]\n",
        "num_epochss = [30, 50]\n",
        "\n",
        "best_params = cross_validation(X_alltrain, y_alltrain, learning_rates, keep_probs, num_epochss)"
      ]
    },
    {
      "cell_type": "code",
      "source": [
        "# Enregistrement du fichier file4Kaggle.csv dans mon drive pour un accès permanent\n",
        "!cp file4Kaggle.csv /gdrive/MyDrive/Data/"
      ],
      "metadata": {
        "id": "np5yt25CZfkd"
      },
      "execution_count": 77,
      "outputs": []
    }
  ],
  "metadata": {
    "kernelspec": {
      "display_name": "xpython",
      "language": "python",
      "name": "xpython"
    },
    "language_info": {
      "file_extension": ".py",
      "mimetype": "text/x-python",
      "name": "python",
      "version": "3.7.6"
    },
    "colab": {
      "provenance": [],
      "include_colab_link": true
    }
  },
  "nbformat": 4,
  "nbformat_minor": 0
}